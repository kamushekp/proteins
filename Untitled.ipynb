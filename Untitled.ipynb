{
 "cells": [
  {
   "cell_type": "code",
   "execution_count": 1,
   "id": "small-tribe",
   "metadata": {},
   "outputs": [
    {
     "name": "stdout",
     "output_type": "stream",
     "text": [
      "(2048, 2048)\n",
      "(2048, 2048)\n",
      "(2048, 2048)\n",
      "(2048, 2048)\n"
     ]
    },
    {
     "ename": "error",
     "evalue": "OpenCV(4.5.1) C:\\Users\\appveyor\\AppData\\Local\\Temp\\1\\pip-req-build-kh7iq4w7\\opencv\\modules\\imgproc\\src\\contours.cpp:197: error: (-210:Unsupported format or combination of formats) [Start]FindContours supports only CV_8UC1 images when mode != CV_RETR_FLOODFILL otherwise supports CV_32SC1 images only in function 'cvStartFindContours_Impl'\n",
     "output_type": "error",
     "traceback": [
      "\u001B[1;31m---------------------------------------------------------------------------\u001B[0m",
      "\u001B[1;31merror\u001B[0m                                     Traceback (most recent call last)",
      "\u001B[1;32m<ipython-input-1-d337a1feadf2>\u001B[0m in \u001B[0;36m<module>\u001B[1;34m\u001B[0m\n\u001B[0;32m     12\u001B[0m \u001B[1;33m\u001B[0m\u001B[0m\n\u001B[0;32m     13\u001B[0m \u001B[0mplt\u001B[0m\u001B[1;33m.\u001B[0m\u001B[0mrcParams\u001B[0m\u001B[1;33m[\u001B[0m\u001B[1;34m\"figure.figsize\"\u001B[0m\u001B[1;33m]\u001B[0m \u001B[1;33m=\u001B[0m \u001B[1;33m(\u001B[0m\u001B[1;36m10\u001B[0m\u001B[1;33m,\u001B[0m\u001B[1;36m10\u001B[0m\u001B[1;33m)\u001B[0m\u001B[1;31m#%%\u001B[0m\u001B[1;33m\u001B[0m\u001B[1;33m\u001B[0m\u001B[0m\n\u001B[1;32m---> 14\u001B[1;33m \u001B[0mplt\u001B[0m\u001B[1;33m.\u001B[0m\u001B[0mimshow\u001B[0m\u001B[1;33m(\u001B[0m\u001B[0mSubmissionBuilder\u001B[0m\u001B[1;33m.\u001B[0m\u001B[0mSubmissionBuilder\u001B[0m\u001B[1;33m(\u001B[0m\u001B[1;33m)\u001B[0m\u001B[1;33m.\u001B[0m\u001B[0mBuild\u001B[0m\u001B[1;33m(\u001B[0m\u001B[1;33m)\u001B[0m\u001B[1;33m[\u001B[0m\u001B[1;33m:\u001B[0m\u001B[1;33m,\u001B[0m\u001B[1;33m:\u001B[0m\u001B[1;33m,\u001B[0m\u001B[1;36m2\u001B[0m\u001B[1;33m]\u001B[0m\u001B[1;33m)\u001B[0m\u001B[1;33m\u001B[0m\u001B[1;33m\u001B[0m\u001B[0m\n\u001B[0m",
      "\u001B[1;32m~\\research\\proteins\\TestFeatures\\SubmissionBuilder.py\u001B[0m in \u001B[0;36mBuild\u001B[1;34m(self)\u001B[0m\n\u001B[0;32m     20\u001B[0m         \u001B[0mblue_image\u001B[0m \u001B[1;33m=\u001B[0m \u001B[0mfullImage\u001B[0m\u001B[1;33m[\u001B[0m\u001B[1;33m:\u001B[0m\u001B[1;33m,\u001B[0m\u001B[1;33m:\u001B[0m\u001B[1;33m,\u001B[0m\u001B[1;36m2\u001B[0m\u001B[1;33m]\u001B[0m\u001B[1;33m\u001B[0m\u001B[1;33m\u001B[0m\u001B[0m\n\u001B[0;32m     21\u001B[0m \u001B[1;33m\u001B[0m\u001B[0m\n\u001B[1;32m---> 22\u001B[1;33m         \u001B[1;32mreturn\u001B[0m \u001B[0mTestFeaturesProvider\u001B[0m\u001B[1;33m(\u001B[0m\u001B[1;33m)\u001B[0m\u001B[1;33m.\u001B[0m\u001B[0mget\u001B[0m\u001B[1;33m(\u001B[0m\u001B[0mblue_image\u001B[0m\u001B[1;33m,\u001B[0m \u001B[0mfullImage\u001B[0m\u001B[1;33m)\u001B[0m\u001B[1;33m\u001B[0m\u001B[1;33m\u001B[0m\u001B[0m\n\u001B[0m",
      "\u001B[1;32m~\\research\\proteins\\TestFeatures\\TestFeaturesProvider.py\u001B[0m in \u001B[0;36mget\u001B[1;34m(self, nuclear_image, image)\u001B[0m\n\u001B[0;32m     10\u001B[0m     \u001B[1;32mdef\u001B[0m \u001B[0mget\u001B[0m\u001B[1;33m(\u001B[0m\u001B[0mself\u001B[0m\u001B[1;33m,\u001B[0m \u001B[0mnuclear_image\u001B[0m\u001B[1;33m,\u001B[0m \u001B[0mimage\u001B[0m\u001B[1;33m)\u001B[0m\u001B[1;33m:\u001B[0m\u001B[1;33m\u001B[0m\u001B[1;33m\u001B[0m\u001B[0m\n\u001B[0;32m     11\u001B[0m         \u001B[0mbinary\u001B[0m \u001B[1;33m=\u001B[0m \u001B[0mBinaryMaskProvider\u001B[0m\u001B[1;33m(\u001B[0m\u001B[1;33m)\u001B[0m\u001B[1;33m.\u001B[0m\u001B[0mget_binary_mask\u001B[0m\u001B[1;33m(\u001B[0m\u001B[0mnuclear_image\u001B[0m\u001B[1;33m)\u001B[0m\u001B[1;33m\u001B[0m\u001B[1;33m\u001B[0m\u001B[0m\n\u001B[1;32m---> 12\u001B[1;33m         \u001B[0mextract_ellipses_result\u001B[0m \u001B[1;33m=\u001B[0m \u001B[0mEllipseExtractor\u001B[0m\u001B[1;33m(\u001B[0m\u001B[1;33m)\u001B[0m\u001B[1;33m.\u001B[0m\u001B[0mextract_ellipses\u001B[0m\u001B[1;33m(\u001B[0m\u001B[0mbinary\u001B[0m\u001B[1;33m)\u001B[0m\u001B[1;33m\u001B[0m\u001B[1;33m\u001B[0m\u001B[0m\n\u001B[0m\u001B[0;32m     13\u001B[0m \u001B[1;33m\u001B[0m\u001B[0m\n\u001B[0;32m     14\u001B[0m         \u001B[1;32mfor\u001B[0m \u001B[0mellipse_params\u001B[0m \u001B[1;32min\u001B[0m \u001B[0mextract_ellipses_result\u001B[0m\u001B[1;33m:\u001B[0m\u001B[1;33m\u001B[0m\u001B[1;33m\u001B[0m\u001B[0m\n",
      "\u001B[1;32m~\\research\\proteins\\ImageSplitting\\EllipseExtractor.py\u001B[0m in \u001B[0;36mextract_ellipses\u001B[1;34m(self, binary_mask)\u001B[0m\n\u001B[0;32m     10\u001B[0m         \u001B[0mimage_size\u001B[0m \u001B[1;33m=\u001B[0m \u001B[0mbinary_mask\u001B[0m\u001B[1;33m.\u001B[0m\u001B[0mshape\u001B[0m\u001B[1;33m[\u001B[0m\u001B[1;36m0\u001B[0m\u001B[1;33m]\u001B[0m\u001B[1;33m\u001B[0m\u001B[1;33m\u001B[0m\u001B[0m\n\u001B[0;32m     11\u001B[0m \u001B[1;33m\u001B[0m\u001B[0m\n\u001B[1;32m---> 12\u001B[1;33m         \u001B[0mcontours\u001B[0m \u001B[1;33m=\u001B[0m \u001B[0mContourFinder\u001B[0m\u001B[1;33m(\u001B[0m\u001B[1;33m)\u001B[0m\u001B[1;33m.\u001B[0m\u001B[0mfind_contours\u001B[0m\u001B[1;33m(\u001B[0m\u001B[0mbinary_mask\u001B[0m\u001B[1;33m)\u001B[0m\u001B[1;33m\u001B[0m\u001B[1;33m\u001B[0m\u001B[0m\n\u001B[0m\u001B[0;32m     13\u001B[0m         \u001B[0mfield\u001B[0m \u001B[1;33m=\u001B[0m \u001B[0mImageEllipsesProvider\u001B[0m\u001B[1;33m(\u001B[0m\u001B[0mcontours\u001B[0m\u001B[1;33m,\u001B[0m \u001B[0mimage_size\u001B[0m\u001B[1;33m)\u001B[0m\u001B[1;33m\u001B[0m\u001B[1;33m\u001B[0m\u001B[0m\n\u001B[0;32m     14\u001B[0m         \u001B[0mellipses\u001B[0m \u001B[1;33m=\u001B[0m \u001B[0mfield\u001B[0m\u001B[1;33m.\u001B[0m\u001B[0mbuild_ellipses\u001B[0m\u001B[1;33m(\u001B[0m\u001B[1;33m)\u001B[0m\u001B[1;33m\u001B[0m\u001B[1;33m\u001B[0m\u001B[0m\n",
      "\u001B[1;32m~\\research\\proteins\\ImageSplitting\\ContourFinder.py\u001B[0m in \u001B[0;36mfind_contours\u001B[1;34m(binary_mask)\u001B[0m\n\u001B[0;32m      7\u001B[0m     \u001B[1;32mdef\u001B[0m \u001B[0mfind_contours\u001B[0m\u001B[1;33m(\u001B[0m\u001B[0mbinary_mask\u001B[0m\u001B[1;33m:\u001B[0m \u001B[0mnp\u001B[0m\u001B[1;33m.\u001B[0m\u001B[0marray\u001B[0m\u001B[1;33m)\u001B[0m\u001B[1;33m:\u001B[0m\u001B[1;33m\u001B[0m\u001B[1;33m\u001B[0m\u001B[0m\n\u001B[0;32m      8\u001B[0m \u001B[1;33m\u001B[0m\u001B[0m\n\u001B[1;32m----> 9\u001B[1;33m         \u001B[0mcontours\u001B[0m\u001B[1;33m,\u001B[0m \u001B[0mhierarchy\u001B[0m \u001B[1;33m=\u001B[0m \u001B[0mcv2\u001B[0m\u001B[1;33m.\u001B[0m\u001B[0mfindContours\u001B[0m\u001B[1;33m(\u001B[0m\u001B[0mbinary_mask\u001B[0m\u001B[1;33m,\u001B[0m \u001B[0mcv2\u001B[0m\u001B[1;33m.\u001B[0m\u001B[0mRETR_EXTERNAL\u001B[0m\u001B[1;33m,\u001B[0m \u001B[0mcv2\u001B[0m\u001B[1;33m.\u001B[0m\u001B[0mCHAIN_APPROX_SIMPLE\u001B[0m\u001B[1;33m)\u001B[0m\u001B[1;33m\u001B[0m\u001B[1;33m\u001B[0m\u001B[0m\n\u001B[0m\u001B[0;32m     10\u001B[0m         \u001B[0mcontours\u001B[0m \u001B[1;33m=\u001B[0m \u001B[1;33m[\u001B[0m\u001B[0mcv2\u001B[0m\u001B[1;33m.\u001B[0m\u001B[0mapproxPolyDP\u001B[0m\u001B[1;33m(\u001B[0m\u001B[0mcnt\u001B[0m\u001B[1;33m,\u001B[0m \u001B[1;36m0.01\u001B[0m \u001B[1;33m*\u001B[0m \u001B[0mcv2\u001B[0m\u001B[1;33m.\u001B[0m\u001B[0marcLength\u001B[0m\u001B[1;33m(\u001B[0m\u001B[0mcnt\u001B[0m\u001B[1;33m,\u001B[0m \u001B[1;32mTrue\u001B[0m\u001B[1;33m)\u001B[0m\u001B[1;33m,\u001B[0m \u001B[1;32mTrue\u001B[0m\u001B[1;33m)\u001B[0m \u001B[1;32mfor\u001B[0m \u001B[0mcnt\u001B[0m \u001B[1;32min\u001B[0m \u001B[0mcontours\u001B[0m\u001B[1;33m]\u001B[0m\u001B[1;33m\u001B[0m\u001B[1;33m\u001B[0m\u001B[0m\n\u001B[0;32m     11\u001B[0m         \u001B[0mareas\u001B[0m \u001B[1;33m=\u001B[0m \u001B[0mnp\u001B[0m\u001B[1;33m.\u001B[0m\u001B[0masarray\u001B[0m\u001B[1;33m(\u001B[0m\u001B[1;33m[\u001B[0m\u001B[0mcv2\u001B[0m\u001B[1;33m.\u001B[0m\u001B[0mcontourArea\u001B[0m\u001B[1;33m(\u001B[0m\u001B[0mc\u001B[0m\u001B[1;33m)\u001B[0m \u001B[1;32mfor\u001B[0m \u001B[0mc\u001B[0m \u001B[1;32min\u001B[0m \u001B[0mcontours\u001B[0m\u001B[1;33m]\u001B[0m\u001B[1;33m)\u001B[0m\u001B[1;33m\u001B[0m\u001B[1;33m\u001B[0m\u001B[0m\n",
      "\u001B[1;31merror\u001B[0m: OpenCV(4.5.1) C:\\Users\\appveyor\\AppData\\Local\\Temp\\1\\pip-req-build-kh7iq4w7\\opencv\\modules\\imgproc\\src\\contours.cpp:197: error: (-210:Unsupported format or combination of formats) [Start]FindContours supports only CV_8UC1 images when mode != CV_RETR_FLOODFILL otherwise supports CV_32SC1 images only in function 'cvStartFindContours_Impl'\n"
     ]
    }
   ],
   "source": [
    "import numpy as np\n",
    "import pandas as pd\n",
    "import os\n",
    "import cv2\n",
    "import matplotlib.pyplot as plt\n",
    "from tqdm import tqdm\n",
    "from shapely.geometry.point import Point\n",
    "import shapely.affinity\n",
    "import random\n",
    "from TestFeatures import SubmissionBuilder\n",
    "from TestFeatures.TestImageDfProvider import TestImageDfProvider\n",
    "\n",
    "plt.rcParams[\"figure.figsize\"] = (10,10)#%%\n",
    "plt.imshow(SubmissionBuilder.SubmissionBuilder().Build()[:,:,2])"
   ]
  },
  {
   "cell_type": "code",
   "execution_count": null,
   "outputs": [],
   "source": [
    "from ImageProvider import ImageProvider"
   ],
   "metadata": {
    "collapsed": false,
    "pycharm": {
     "name": "#%%\n"
    }
   }
  },
  {
   "cell_type": "code",
   "execution_count": 11,
   "id": "automotive-picture",
   "metadata": {},
   "outputs": [
    {
     "ename": "ModuleNotFoundError",
     "evalue": "No module named 'BinaryMaskProvider'",
     "output_type": "error",
     "traceback": [
      "\u001B[1;31m---------------------------------------------------------------------------\u001B[0m",
      "\u001B[1;31mModuleNotFoundError\u001B[0m                       Traceback (most recent call last)",
      "\u001B[1;32m<ipython-input-11-3a98629e6f97>\u001B[0m in \u001B[0;36m<module>\u001B[1;34m\u001B[0m\n\u001B[1;32m----> 1\u001B[1;33m \u001B[1;32mfrom\u001B[0m \u001B[0mBinaryMaskProvider\u001B[0m \u001B[1;32mimport\u001B[0m \u001B[0mBinaryMaskProvider\u001B[0m\u001B[1;33m\u001B[0m\u001B[1;33m\u001B[0m\u001B[0m\n\u001B[0m\u001B[0;32m      2\u001B[0m \u001B[0mbinary\u001B[0m \u001B[1;33m=\u001B[0m \u001B[0mBinaryMaskProvider\u001B[0m\u001B[1;33m(\u001B[0m\u001B[1;33m)\u001B[0m\u001B[1;33m.\u001B[0m\u001B[0mGet\u001B[0m\u001B[1;33m(\u001B[0m\u001B[0mimage\u001B[0m\u001B[1;33m)\u001B[0m\u001B[1;33m\u001B[0m\u001B[1;33m\u001B[0m\u001B[0m\n\u001B[0;32m      3\u001B[0m \u001B[0mplt\u001B[0m\u001B[1;33m.\u001B[0m\u001B[0mimshow\u001B[0m\u001B[1;33m(\u001B[0m\u001B[0mbinary\u001B[0m\u001B[1;33m)\u001B[0m\u001B[1;33m\u001B[0m\u001B[1;33m\u001B[0m\u001B[0m\n\u001B[0;32m      4\u001B[0m \u001B[1;33m\u001B[0m\u001B[0m\n",
      "\u001B[1;31mModuleNotFoundError\u001B[0m: No module named 'BinaryMaskProvider'"
     ]
    }
   ],
   "source": [
    "from BinaryMaskProvider import BinaryMaskProvider\n",
    "binary = BinaryMaskProvider().Get(image)\n",
    "plt.imshow(binary)"
   ]
  },
  {
   "cell_type": "code",
   "execution_count": null,
   "id": "promising-elizabeth",
   "metadata": {},
   "outputs": [],
   "source": [
    "from EllipseExtractor import EllipseExtractor\n",
    "ellipses = EllipseExtractor().extract_ellipses(binary)"
   ]
  },
  {
   "cell_type": "code",
   "execution_count": null,
   "id": "cathedral-palmer",
   "metadata": {},
   "outputs": [],
   "source": [
    "from ImageNuclearSplitter import ImageNuclearSplitter\n",
    "ImageNuclearSplitter().split_train_sample(17)"
   ]
  },
  {
   "cell_type": "code",
   "execution_count": null,
   "id": "moderate-livestock",
   "metadata": {},
   "outputs": [],
   "source": [
    "from PathProvider import PathProvider\n",
    "PathProvider().splitted_result_folder"
   ]
  },
  {
   "cell_type": "code",
   "execution_count": null,
   "id": "streaming-burke",
   "metadata": {},
   "outputs": [],
   "source": [
    "def rle_encoding(x):\n",
    "    '''\n",
    "    Turns our masks into RLE encoding to easily store them\n",
    "    and feed them into models later on\n",
    "    https://en.wikipedia.org/wiki/Run-length_encoding\n",
    "    '''\n",
    "    \n",
    "    dots = np.where(x.T.flatten() == 255)[0]\n",
    "    run_lengths = []\n",
    "    prev = -2\n",
    "    for b in dots:\n",
    "        if (b>prev+1): run_lengths.extend((b + 1, 0))\n",
    "        run_lengths[-1] += 1\n",
    "        prev = b\n",
    "        \n",
    "    return ' '.join([str(x) for x in run_lengths])"
   ]
  },
  {
   "cell_type": "code",
   "execution_count": null,
   "id": "existing-barbados",
   "metadata": {},
   "outputs": [],
   "source": [
    "class SubmitCreator:\n",
    "    "
   ]
  },
  {
   "cell_type": "code",
   "execution_count": null,
   "id": "worst-pound",
   "metadata": {},
   "outputs": [],
   "source": [
    "ClassifireCreator().create_full_classifier()"
   ]
  },
  {
   "cell_type": "code",
   "execution_count": null,
   "id": "private-tuner",
   "metadata": {},
   "outputs": [],
   "source": [
    "#features, labels = ClassifireCreator().create_search_space_with_rank(1)"
   ]
  },
  {
   "cell_type": "code",
   "execution_count": null,
   "id": "complex-ready",
   "metadata": {},
   "outputs": [],
   "source": [
    "with open(PathProvider().get_searchspace_labels_path(), 'rb') as f:\n",
    "    labels = np.load(f, allow_pickle=True)\n",
    "labels.shape"
   ]
  },
  {
   "cell_type": "code",
   "execution_count": null,
   "id": "trying-conversion",
   "metadata": {},
   "outputs": [],
   "source": [
    "import cv2\n",
    "from ImageFeaturesProvider import ImageFeaturesProvider\n",
    "v = [feature['vector'] for feature in ImageFeaturesProvider(3).get()]\n",
    "f1, f2 = v[0], v[1]\n",
    "from scipy.spatial.distance import correlation\n",
    "correlation(f1, f2)"
   ]
  },
  {
   "cell_type": "code",
   "execution_count": null,
   "id": "martial-first",
   "metadata": {},
   "outputs": [],
   "source": [
    "f1.shape, f2.shape"
   ]
  },
  {
   "cell_type": "code",
   "execution_count": null,
   "id": "comparative-infection",
   "metadata": {},
   "outputs": [],
   "source": [
    "from ImageFeaturesProvider import ImageFeaturesProvider\n",
    "features = ImageFeaturesProvider(3).get()\n",
    "features"
   ]
  },
  {
   "cell_type": "code",
   "execution_count": null,
   "id": "architectural-silicon",
   "metadata": {},
   "outputs": [],
   "source": [
    "hull = cv2.convexHull(cnt,returnPoints = False)\n",
    "defects = cv2.convexityDefects(cnt,hull)\n",
    "\n",
    "for i in range(defects.shape[0]):\n",
    "    s,e,f,d = defects[i,0]\n",
    "    start = tuple(cnt[s][0])\n",
    "    end = tuple(cnt[e][0])\n",
    "    far = tuple(cnt[f][0])\n",
    "    cv2.line(stacked_images,start,end,[0,255,0, 0],2)\n",
    "    cv2.circle(stacked_images,far,1,[0,0,255,0 ],-1)"
   ]
  },
  {
   "cell_type": "code",
   "execution_count": null,
   "id": "hollow-colombia",
   "metadata": {},
   "outputs": [],
   "source": [
    "x, y, width, height = cv2.boundingRect(cnt)\n",
    "plt.imshow(stacked_images[y:y+height,x:x+width,:,][:,:,:3])\n",
    "plt.show()"
   ]
  },
  {
   "cell_type": "code",
   "execution_count": null,
   "id": "understanding-selection",
   "metadata": {},
   "outputs": [],
   "source": [
    "def get_shape_props(contour):\n",
    "    hull = cv2.convexHull(cnt,returnPoints = False)\n",
    "    defects = cv2.convexityDefects(cnt,hull)\n",
    "    distances = defects[:,:,3]/256.0\n",
    "    \n",
    "    defects_stats = {\n",
    "        \"mean\":  np.mean(distances),\n",
    "        \"std\": np.std(distances),\n",
    "        \"median\": np.median(distances),\n",
    "        \"max\": np.amax(distances),\n",
    "        \"0.25\": np.quantile(distances, 0.25),\n",
    "        \"0.50\": np.quantile(distances, 0.50),\n",
    "        \"0.75\": np.quantile(distances, 0.75)\n",
    "    }\n",
    "    return defects_stats\n",
    "\n"
   ]
  },
  {
   "cell_type": "code",
   "execution_count": null,
   "id": "referenced-breath",
   "metadata": {},
   "outputs": [],
   "source": [
    "get_shape_props(cnt)"
   ]
  },
  {
   "cell_type": "code",
   "execution_count": null,
   "id": "recorded-chemical",
   "metadata": {},
   "outputs": [],
   "source": [
    "def contours_distance(contour1, contour2):\n",
    "    symmetric_safe_distance_code = 2\n",
    "    unused_param = 0.0\n",
    "    return cv2.matchShapes(contour1, contour2, symmetric_safe_distance_code, unused_param)"
   ]
  },
  {
   "cell_type": "code",
   "execution_count": null,
   "id": "motivated-details",
   "metadata": {},
   "outputs": [],
   "source": [
    "contours_distance(cnt, contours[1])"
   ]
  },
  {
   "cell_type": "code",
   "execution_count": null,
   "id": "arbitrary-interval",
   "metadata": {},
   "outputs": [],
   "source": [
    "contours_distance(contours[1], cnt)"
   ]
  },
  {
   "cell_type": "code",
   "execution_count": null,
   "id": "crazy-crack",
   "metadata": {},
   "outputs": [],
   "source": [
    "draw_contours([contours[1], contours[2]], binary_mask)"
   ]
  },
  {
   "cell_type": "code",
   "execution_count": null,
   "id": "loving-merchant",
   "metadata": {},
   "outputs": [],
   "source": [
    "print(np.max(contours[1]))"
   ]
  },
  {
   "cell_type": "code",
   "execution_count": null,
   "id": "derived-contemporary",
   "metadata": {},
   "outputs": [],
   "source": []
  }
 ],
 "metadata": {
  "kernelspec": {
   "display_name": "Python 3",
   "language": "python",
   "name": "python3"
  },
  "language_info": {
   "codemirror_mode": {
    "name": "ipython",
    "version": 3
   },
   "file_extension": ".py",
   "mimetype": "text/x-python",
   "name": "python",
   "nbconvert_exporter": "python",
   "pygments_lexer": "ipython3",
   "version": "3.8.8"
  }
 },
 "nbformat": 4,
 "nbformat_minor": 5
}