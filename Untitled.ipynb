{
 "cells": [
  {
   "cell_type": "code",
   "execution_count": null,
   "id": "sitting-explorer",
   "metadata": {},
   "outputs": [],
   "source": [
    "import numpy as np\n",
    "import pandas as pd\n",
    "import os\n",
    "import cv2\n",
    "import matplotlib.pyplot as plt\n",
    "from tqdm import tqdm\n",
    "from shapely.geometry.point import Point\n",
    "import shapely.affinity\n",
    "import random\n",
    "\n",
    "plt.rcParams[\"figure.figsize\"] = (10,10)"
   ]
  },
  {
   "cell_type": "code",
   "execution_count": null,
   "id": "casual-syntax",
   "metadata": {},
   "outputs": [],
   "source": [
    "from os import path"
   ]
  },
  {
   "cell_type": "code",
   "execution_count": null,
   "id": "vocal-insertion",
   "metadata": {},
   "outputs": [],
   "source": [
    "from ImageProvider import ImageProvider"
   ]
  },
  {
   "cell_type": "code",
   "execution_count": null,
   "id": "recorded-canada",
   "metadata": {},
   "outputs": [],
   "source": [
    "image, labels = ImageProvider().load_train_sample_by_number(2406, colors=['blue'])\n",
    "plt.imshow(image)"
   ]
  },
  {
   "cell_type": "code",
   "execution_count": null,
   "id": "acute-absorption",
   "metadata": {},
   "outputs": [],
   "source": [
    "from BinaryMaskProvider import BinaryMaskProvider\n",
    "binary = BinaryMaskProvider().Get(image)\n",
    "plt.imshow(binary)"
   ]
  },
  {
   "cell_type": "code",
   "execution_count": null,
   "id": "novel-universal",
   "metadata": {},
   "outputs": [],
   "source": [
    "from EllipseExtractor import EllipseExtractor\n",
    "ellipses = EllipseExtractor().extract_ellipses(binary)"
   ]
  },
  {
   "cell_type": "code",
   "execution_count": null,
   "id": "revised-meditation",
   "metadata": {},
   "outputs": [],
   "source": [
    "from ImageNuclearSplitter import ImageNuclearSplitter\n",
    "ImageNuclearSplitter().split_train_sample(17)"
   ]
  },
  {
   "cell_type": "code",
   "execution_count": null,
   "id": "preliminary-logic",
   "metadata": {},
   "outputs": [],
   "source": [
    "from PathProvider import PathProvider\n",
    "PathProvider().splitted_result_folder"
   ]
  },
  {
   "cell_type": "code",
   "execution_count": null,
   "id": "following-royalty",
   "metadata": {},
   "outputs": [],
   "source": [
    "def rle_encoding(x):\n",
    "    '''\n",
    "    Turns our masks into RLE encoding to easily store them\n",
    "    and feed them into models later on\n",
    "    https://en.wikipedia.org/wiki/Run-length_encoding\n",
    "    '''\n",
    "    \n",
    "    dots = np.where(x.T.flatten() == 255)[0]\n",
    "    run_lengths = []\n",
    "    prev = -2\n",
    "    for b in dots:\n",
    "        if (b>prev+1): run_lengths.extend((b + 1, 0))\n",
    "        run_lengths[-1] += 1\n",
    "        prev = b\n",
    "        \n",
    "    return ' '.join([str(x) for x in run_lengths])"
   ]
  },
  {
   "cell_type": "code",
   "execution_count": null,
   "id": "legal-loading",
   "metadata": {},
   "outputs": [],
   "source": []
  },
  {
   "cell_type": "code",
   "execution_count": 2,
   "id": "equivalent-record",
   "metadata": {},
   "outputs": [
    {
     "name": "stderr",
     "output_type": "stream",
     "text": [
      "f:\\things\\python3.8\\lib\\site-packages\\sklearn\\neighbors\\_classification.py:179: DataConversionWarning: A column-vector y was passed when a 1d array was expected. Please change the shape of y to (n_samples,), for example using ravel().\n",
      "  return self._fit(X, y)\n",
      "f:\\things\\python3.8\\lib\\site-packages\\numpy\\core\\_asarray.py:83: VisibleDeprecationWarning: Creating an ndarray from ragged nested sequences (which is a list-or-tuple of lists-or-tuples-or ndarrays with different lengths or shapes) is deprecated. If you meant to do this, you must specify 'dtype=object' when creating the ndarray\n",
      "  return array(a, dtype, copy=False, order=order)\n"
     ]
    },
    {
     "name": "stdout",
     "output_type": "stream",
     "text": [
      "((146405, 180), (105638, 180), (146405, 1), (105638, 1))\n"
     ]
    },
    {
     "name": "stderr",
     "output_type": "stream",
     "text": [
      "f:\\things\\python3.8\\lib\\site-packages\\sklearn\\neighbors\\_classification.py:179: DataConversionWarning: A column-vector y was passed when a 1d array was expected. Please change the shape of y to (n_samples,), for example using ravel().\n",
      "  return self._fit(X, y)\n"
     ]
    },
    {
     "name": "stdout",
     "output_type": "stream",
     "text": [
      "rank 2 done\n"
     ]
    },
    {
     "name": "stderr",
     "output_type": "stream",
     "text": [
      "f:\\things\\python3.8\\lib\\site-packages\\numpy\\core\\_asarray.py:83: VisibleDeprecationWarning: Creating an ndarray from ragged nested sequences (which is a list-or-tuple of lists-or-tuples-or ndarrays with different lengths or shapes) is deprecated. If you meant to do this, you must specify 'dtype=object' when creating the ndarray\n",
      "  return array(a, dtype, copy=False, order=order)\n"
     ]
    },
    {
     "name": "stdout",
     "output_type": "stream",
     "text": [
      "((252043, 180), (27579, 180), (252043, 1), (27579, 1))\n"
     ]
    },
    {
     "name": "stderr",
     "output_type": "stream",
     "text": [
      "f:\\things\\python3.8\\lib\\site-packages\\sklearn\\neighbors\\_classification.py:179: DataConversionWarning: A column-vector y was passed when a 1d array was expected. Please change the shape of y to (n_samples,), for example using ravel().\n",
      "  return self._fit(X, y)\n"
     ]
    },
    {
     "name": "stdout",
     "output_type": "stream",
     "text": [
      "rank 3 done\n"
     ]
    },
    {
     "name": "stderr",
     "output_type": "stream",
     "text": [
      "f:\\things\\python3.8\\lib\\site-packages\\numpy\\core\\_asarray.py:83: VisibleDeprecationWarning: Creating an ndarray from ragged nested sequences (which is a list-or-tuple of lists-or-tuples-or ndarrays with different lengths or shapes) is deprecated. If you meant to do this, you must specify 'dtype=object' when creating the ndarray\n",
      "  return array(a, dtype, copy=False, order=order)\n",
      "f:\\things\\python3.8\\lib\\site-packages\\sklearn\\neighbors\\_classification.py:179: DataConversionWarning: A column-vector y was passed when a 1d array was expected. Please change the shape of y to (n_samples,), for example using ravel().\n",
      "  return self._fit(X, y)\n"
     ]
    },
    {
     "name": "stdout",
     "output_type": "stream",
     "text": [
      "((279622, 180), (2428, 180), (279622, 1), (2428, 1))\n",
      "rank 4 done\n"
     ]
    },
    {
     "name": "stderr",
     "output_type": "stream",
     "text": [
      "f:\\things\\python3.8\\lib\\site-packages\\numpy\\core\\_asarray.py:83: VisibleDeprecationWarning: Creating an ndarray from ragged nested sequences (which is a list-or-tuple of lists-or-tuples-or ndarrays with different lengths or shapes) is deprecated. If you meant to do this, you must specify 'dtype=object' when creating the ndarray\n",
      "  return array(a, dtype, copy=False, order=order)\n"
     ]
    },
    {
     "name": "stdout",
     "output_type": "stream",
     "text": [
      "((282050, 180), (32, 180), (282050, 1), (32, 1))\n"
     ]
    },
    {
     "name": "stderr",
     "output_type": "stream",
     "text": [
      "f:\\things\\python3.8\\lib\\site-packages\\sklearn\\neighbors\\_classification.py:179: DataConversionWarning: A column-vector y was passed when a 1d array was expected. Please change the shape of y to (n_samples,), for example using ravel().\n",
      "  return self._fit(X, y)\n"
     ]
    },
    {
     "name": "stdout",
     "output_type": "stream",
     "text": [
      "rank 5 done\n"
     ]
    }
   ],
   "source": [
    "ClassifireCreator().create_full_classifier()"
   ]
  },
  {
   "cell_type": "code",
   "execution_count": null,
   "id": "musical-italy",
   "metadata": {},
   "outputs": [],
   "source": [
    "#features, labels = ClassifireCreator().create_search_space_with_rank(1)"
   ]
  },
  {
   "cell_type": "code",
   "execution_count": 8,
   "id": "correct-twins",
   "metadata": {},
   "outputs": [
    {
     "data": {
      "text/plain": [
       "(282082, 1)"
      ]
     },
     "execution_count": 8,
     "metadata": {},
     "output_type": "execute_result"
    }
   ],
   "source": [
    "with open(PathProvider().get_searchspace_labels_path(), 'rb') as f:\n",
    "    labels = np.load(f, allow_pickle=True)\n",
    "labels.shape"
   ]
  },
  {
   "cell_type": "code",
   "execution_count": null,
   "id": "parliamentary-sydney",
   "metadata": {},
   "outputs": [],
   "source": [
    "import cv2\n",
    "from ImageFeaturesProvider import ImageFeaturesProvider\n",
    "v = [feature['vector'] for feature in ImageFeaturesProvider(3).get()]\n",
    "f1, f2 = v[0], v[1]\n",
    "from scipy.spatial.distance import correlation\n",
    "correlation(f1, f2)"
   ]
  },
  {
   "cell_type": "code",
   "execution_count": null,
   "id": "registered-prize",
   "metadata": {},
   "outputs": [],
   "source": [
    "f1.shape, f2.shape"
   ]
  },
  {
   "cell_type": "code",
   "execution_count": null,
   "id": "maritime-situation",
   "metadata": {},
   "outputs": [],
   "source": [
    "from ImageFeaturesProvider import ImageFeaturesProvider\n",
    "features = ImageFeaturesProvider(3).get()\n",
    "features"
   ]
  },
  {
   "cell_type": "code",
   "execution_count": null,
   "id": "organized-titanium",
   "metadata": {},
   "outputs": [],
   "source": [
    "hull = cv2.convexHull(cnt,returnPoints = False)\n",
    "defects = cv2.convexityDefects(cnt,hull)\n",
    "\n",
    "for i in range(defects.shape[0]):\n",
    "    s,e,f,d = defects[i,0]\n",
    "    start = tuple(cnt[s][0])\n",
    "    end = tuple(cnt[e][0])\n",
    "    far = tuple(cnt[f][0])\n",
    "    cv2.line(stacked_images,start,end,[0,255,0, 0],2)\n",
    "    cv2.circle(stacked_images,far,1,[0,0,255,0 ],-1)"
   ]
  },
  {
   "cell_type": "code",
   "execution_count": null,
   "id": "compound-bacon",
   "metadata": {},
   "outputs": [],
   "source": [
    "x, y, width, height = cv2.boundingRect(cnt)\n",
    "plt.imshow(stacked_images[y:y+height,x:x+width,:,][:,:,:3])\n",
    "plt.show()"
   ]
  },
  {
   "cell_type": "code",
   "execution_count": null,
   "id": "brazilian-courage",
   "metadata": {},
   "outputs": [],
   "source": [
    "def get_shape_props(contour):\n",
    "    hull = cv2.convexHull(cnt,returnPoints = False)\n",
    "    defects = cv2.convexityDefects(cnt,hull)\n",
    "    distances = defects[:,:,3]/256.0\n",
    "    \n",
    "    defects_stats = {\n",
    "        \"mean\":  np.mean(distances),\n",
    "        \"std\": np.std(distances),\n",
    "        \"median\": np.median(distances),\n",
    "        \"max\": np.amax(distances),\n",
    "        \"0.25\": np.quantile(distances, 0.25),\n",
    "        \"0.50\": np.quantile(distances, 0.50),\n",
    "        \"0.75\": np.quantile(distances, 0.75)\n",
    "    }\n",
    "    return defects_stats\n",
    "\n"
   ]
  },
  {
   "cell_type": "code",
   "execution_count": null,
   "id": "hollywood-gardening",
   "metadata": {},
   "outputs": [],
   "source": [
    "get_shape_props(cnt)"
   ]
  },
  {
   "cell_type": "code",
   "execution_count": null,
   "id": "specified-dinner",
   "metadata": {},
   "outputs": [],
   "source": [
    "def contours_distance(contour1, contour2):\n",
    "    symmetric_safe_distance_code = 2\n",
    "    unused_param = 0.0\n",
    "    return cv2.matchShapes(contour1, contour2, symmetric_safe_distance_code, unused_param)"
   ]
  },
  {
   "cell_type": "code",
   "execution_count": null,
   "id": "crucial-shadow",
   "metadata": {},
   "outputs": [],
   "source": [
    "contours_distance(cnt, contours[1])"
   ]
  },
  {
   "cell_type": "code",
   "execution_count": null,
   "id": "smart-shore",
   "metadata": {},
   "outputs": [],
   "source": [
    "contours_distance(contours[1], cnt)"
   ]
  },
  {
   "cell_type": "code",
   "execution_count": null,
   "id": "cooked-criticism",
   "metadata": {},
   "outputs": [],
   "source": [
    "draw_contours([contours[1], contours[2]], binary_mask)"
   ]
  },
  {
   "cell_type": "code",
   "execution_count": null,
   "id": "constant-burns",
   "metadata": {},
   "outputs": [],
   "source": [
    "print(np.max(contours[1]))"
   ]
  },
  {
   "cell_type": "code",
   "execution_count": null,
   "id": "alternative-aquatic",
   "metadata": {},
   "outputs": [],
   "source": []
  }
 ],
 "metadata": {
  "kernelspec": {
   "display_name": "Python 3",
   "language": "python",
   "name": "python3"
  },
  "language_info": {
   "codemirror_mode": {
    "name": "ipython",
    "version": 3
   },
   "file_extension": ".py",
   "mimetype": "text/x-python",
   "name": "python",
   "nbconvert_exporter": "python",
   "pygments_lexer": "ipython3",
   "version": "3.8.8"
  }
 },
 "nbformat": 4,
 "nbformat_minor": 5
}
