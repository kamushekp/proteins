{
 "cells": [
  {
   "cell_type": "code",
   "execution_count": null,
   "id": "impossible-integral",
   "metadata": {},
   "outputs": [],
   "source": [
    "import numpy as np\n",
    "import pandas as pd\n",
    "import os\n",
    "import cv2\n",
    "import matplotlib.pyplot as plt\n",
    "from tqdm import tqdm\n",
    "from shapely.geometry.point import Point\n",
    "import shapely.affinity\n",
    "import random\n",
    "\n",
    "#plt.rcParams[\"figure.figsize\"] = (10,10)"
   ]
  },
  {
   "cell_type": "code",
   "execution_count": null,
   "id": "presidential-regression",
   "metadata": {},
   "outputs": [],
   "source": [
    "from os import path"
   ]
  },
  {
   "cell_type": "code",
   "execution_count": null,
   "id": "turned-stewart",
   "metadata": {},
   "outputs": [],
   "source": [
    "from ImageProvider import ImageProvider"
   ]
  },
  {
   "cell_type": "code",
   "execution_count": null,
   "id": "incoming-switch",
   "metadata": {},
   "outputs": [],
   "source": [
    "image, labels = ImageProvider().load_train_sample_by_number(2406, colors=['blue'])\n",
    "plt.imshow(image)"
   ]
  },
  {
   "cell_type": "code",
   "execution_count": null,
   "id": "persistent-popularity",
   "metadata": {},
   "outputs": [],
   "source": [
    "from BinaryMaskProvider import BinaryMaskProvider\n",
    "binary = BinaryMaskProvider().Get(image)\n",
    "plt.imshow(binary)"
   ]
  },
  {
   "cell_type": "code",
   "execution_count": null,
   "id": "sharing-salem",
   "metadata": {},
   "outputs": [],
   "source": [
    "from EllipseExtractor import EllipseExtractor\n",
    "ellipses = EllipseExtractor().extract_ellipses(binary)"
   ]
  },
  {
   "cell_type": "code",
   "execution_count": 2,
   "id": "declared-belize",
   "metadata": {},
   "outputs": [
    {
     "name": "stderr",
     "output_type": "stream",
     "text": [
      "f:\\things\\python3.8\\lib\\site-packages\\numpy\\core\\_asarray.py:83: VisibleDeprecationWarning: Creating an ndarray from ragged nested sequences (which is a list-or-tuple of lists-or-tuples-or ndarrays with different lengths or shapes) is deprecated. If you meant to do this, you must specify 'dtype=object' when creating the ndarray\n",
      "  return array(a, dtype, copy=False, order=order)\n"
     ]
    }
   ],
   "source": [
    "from ImageNuclearSplitter import ImageNuclearSplitter\n",
    "ImageNuclearSplitter().split_train_sample(7)"
   ]
  },
  {
   "cell_type": "code",
   "execution_count": null,
   "id": "limiting-bulletin",
   "metadata": {},
   "outputs": [],
   "source": [
    "from PathProvider import PathProvider\n",
    "PathProvider().splitted_result_folder"
   ]
  },
  {
   "cell_type": "code",
   "execution_count": null,
   "id": "dedicated-sellers",
   "metadata": {},
   "outputs": [],
   "source": [
    "def rle_encoding(x):\n",
    "    '''\n",
    "    Turns our masks into RLE encoding to easily store them\n",
    "    and feed them into models later on\n",
    "    https://en.wikipedia.org/wiki/Run-length_encoding\n",
    "    '''\n",
    "    \n",
    "    dots = np.where(x.T.flatten() == 255)[0]\n",
    "    run_lengths = []\n",
    "    prev = -2\n",
    "    for b in dots:\n",
    "        if (b>prev+1): run_lengths.extend((b + 1, 0))\n",
    "        run_lengths[-1] += 1\n",
    "        prev = b\n",
    "        \n",
    "    return ' '.join([str(x) for x in run_lengths])"
   ]
  },
  {
   "cell_type": "code",
   "execution_count": null,
   "id": "biological-secret",
   "metadata": {},
   "outputs": [],
   "source": [
    "import splitter\n",
    "splitter._foo(1, dataset_folder, splitted_result_folder)"
   ]
  },
  {
   "cell_type": "code",
   "execution_count": null,
   "id": "polish-forward",
   "metadata": {},
   "outputs": [],
   "source": [
    "def draw_contours(contours, ellipses, binary_mask):\n",
    "    contours_image = np.zeros(binary_mask.shape, np.uint8)\n",
    "    cv2.drawContours(contours_image, contours, -1, (255,255,255), 10)\n",
    "    for ell in ellipses:\n",
    "        x, y = ell.get_overlap_ellipse().exterior.xy\n",
    "        plt.plot(x,y)\n",
    "    plt.imshow(contours_image)\n",
    "    plt.show()\n",
    "    "
   ]
  },
  {
   "cell_type": "code",
   "execution_count": null,
   "id": "otherwise-intranet",
   "metadata": {},
   "outputs": [],
   "source": [
    "splitted_result_csv = path.join(splitted_result_folder, 'train_splitted', 'meta.csv')"
   ]
  },
  {
   "cell_type": "code",
   "execution_count": null,
   "id": "meaning-physics",
   "metadata": {},
   "outputs": [],
   "source": [
    "import pandas as pd\n",
    "max(set(pd.read_csv(splitted_result_csv)['0'].values))"
   ]
  },
  {
   "cell_type": "code",
   "execution_count": null,
   "id": "amazing-poultry",
   "metadata": {},
   "outputs": [],
   "source": [
    "pd.read_csv(splitted_result_csv)\n"
   ]
  },
  {
   "cell_type": "code",
   "execution_count": null,
   "id": "nearby-library",
   "metadata": {},
   "outputs": [],
   "source": [
    "def generate_grid(shape):\n",
    "    # array([[0, 0],[0, 1],[0, 2]...]))\n",
    "    \n",
    "    x, y = np.arange(0,shape[0],1),np.arange(0,shape[1],1)\n",
    "    grid = np.array(np.meshgrid(x, y)).T.reshape(-1,2)\n",
    "    return grid\n",
    "\n",
    "\n",
    "\n",
    "def select_in_contour_coords(contour, shape, x, y):\n",
    "    grid = generate_grid(shape)\n",
    "    \n",
    "    def filter(point):\n",
    "        return cv2.pointPolygonTest(contour, (point[0] + x, point[1] + y), False) == 1.0\n",
    "    \n",
    "    return np.asarray([e for e in grid if filter(e)])\n",
    "\n",
    "def find_points_inside_contour(contour, stacked_images):    \n",
    "    x, y, width, height = cv2.boundingRect(contour)\n",
    "    isolated_cell_image = stacked_images[y:y+height,x:x+width,:,]\n",
    "    \n",
    "    contour_indexes = select_in_contour_coords(contour, isolated_cell_image.shape[:-1], x, y)\n",
    "    return isolated_cell_image[contour_indexes[:,1], contour_indexes[:,0]]\n",
    "    \n",
    "def find_hists(points_inside_contour):\n",
    "    arr = points_inside_contour\n",
    "    \n",
    "    def get_hist(one_color_arr):\n",
    "        values, bin_edges = np.histogram(one_color_arr, bins=256, density=True)\n",
    "        return values\n",
    "    \n",
    "    return {\n",
    "        'r': get_hist(arr[::,0]),\n",
    "        'g': get_hist(arr[::,1]),\n",
    "        'b': get_hist(arr[::,2])\n",
    "    }\n",
    "    "
   ]
  },
  {
   "cell_type": "code",
   "execution_count": null,
   "id": "sophisticated-mistress",
   "metadata": {},
   "outputs": [],
   "source": [
    "cnt = contours[0]"
   ]
  },
  {
   "cell_type": "code",
   "execution_count": null,
   "id": "imported-model",
   "metadata": {},
   "outputs": [],
   "source": [
    "points = find_points_inside_contour(cnt, stacked_images)\n",
    "hists = find_hists(points)"
   ]
  },
  {
   "cell_type": "code",
   "execution_count": null,
   "id": "numeric-arbitration",
   "metadata": {},
   "outputs": [],
   "source": [
    "hull = cv2.convexHull(cnt,returnPoints = False)\n",
    "defects = cv2.convexityDefects(cnt,hull)\n",
    "\n",
    "for i in range(defects.shape[0]):\n",
    "    s,e,f,d = defects[i,0]\n",
    "    start = tuple(cnt[s][0])\n",
    "    end = tuple(cnt[e][0])\n",
    "    far = tuple(cnt[f][0])\n",
    "    cv2.line(stacked_images,start,end,[0,255,0, 0],2)\n",
    "    cv2.circle(stacked_images,far,1,[0,0,255,0 ],-1)"
   ]
  },
  {
   "cell_type": "code",
   "execution_count": null,
   "id": "beneficial-drove",
   "metadata": {},
   "outputs": [],
   "source": [
    "x, y, width, height = cv2.boundingRect(cnt)\n",
    "plt.imshow(stacked_images[y:y+height,x:x+width,:,][:,:,:3])\n",
    "plt.show()"
   ]
  },
  {
   "cell_type": "code",
   "execution_count": null,
   "id": "matched-television",
   "metadata": {},
   "outputs": [],
   "source": [
    "def get_shape_props(contour):\n",
    "    hull = cv2.convexHull(cnt,returnPoints = False)\n",
    "    defects = cv2.convexityDefects(cnt,hull)\n",
    "    distances = defects[:,:,3]/256.0\n",
    "    \n",
    "    defects_stats = {\n",
    "        \"mean\":  np.mean(distances),\n",
    "        \"std\": np.std(distances),\n",
    "        \"median\": np.median(distances),\n",
    "        \"max\": np.amax(distances),\n",
    "        \"0.25\": np.quantile(distances, 0.25),\n",
    "        \"0.50\": np.quantile(distances, 0.50),\n",
    "        \"0.75\": np.quantile(distances, 0.75)\n",
    "    }\n",
    "    return defects_stats\n",
    "\n"
   ]
  },
  {
   "cell_type": "code",
   "execution_count": null,
   "id": "iraqi-broadway",
   "metadata": {},
   "outputs": [],
   "source": [
    "get_shape_props(cnt)"
   ]
  },
  {
   "cell_type": "code",
   "execution_count": null,
   "id": "breeding-coach",
   "metadata": {},
   "outputs": [],
   "source": [
    "def contours_distance(contour1, contour2):\n",
    "    symmetric_safe_distance_code = 2\n",
    "    unused_param = 0.0\n",
    "    return cv2.matchShapes(contour1, contour2, symmetric_safe_distance_code, unused_param)"
   ]
  },
  {
   "cell_type": "code",
   "execution_count": null,
   "id": "dress-lover",
   "metadata": {},
   "outputs": [],
   "source": [
    "contours_distance(cnt, contours[1])"
   ]
  },
  {
   "cell_type": "code",
   "execution_count": null,
   "id": "neither-growing",
   "metadata": {},
   "outputs": [],
   "source": [
    "contours_distance(contours[1], cnt)"
   ]
  },
  {
   "cell_type": "code",
   "execution_count": null,
   "id": "fresh-differential",
   "metadata": {},
   "outputs": [],
   "source": [
    "draw_contours([contours[1], contours[2]], binary_mask)"
   ]
  },
  {
   "cell_type": "code",
   "execution_count": null,
   "id": "treated-strengthening",
   "metadata": {},
   "outputs": [],
   "source": [
    "print(np.max(contours[1]))"
   ]
  },
  {
   "cell_type": "code",
   "execution_count": null,
   "id": "dynamic-timer",
   "metadata": {},
   "outputs": [],
   "source": [
    "from shapely.geometry import Polygon\n",
    "from shapely.strtree import STRtree\n",
    "polys = [Polygon(((0, 1), (0, 0), (1, 0),(1,1)))]\n",
    "s = STRtree(polys)\n",
    "query_geom = Polygon(((3, 0), (2, 0), (1, 1)))\n",
    "result = s.query(query_geom)\n",
    "query_geom in result"
   ]
  },
  {
   "cell_type": "code",
   "execution_count": null,
   "id": "isolated-coalition",
   "metadata": {},
   "outputs": [],
   "source": [
    "import matplotlib.pyplot as plt\n",
    "\n",
    "x,y = polys[0].exterior.xy\n",
    "plt.plot(x,y)\n",
    "\n",
    "x,y = query_geom.exterior.xy\n",
    "plt.plot(x,y)\n"
   ]
  },
  {
   "cell_type": "code",
   "execution_count": null,
   "id": "spread-revelation",
   "metadata": {},
   "outputs": [],
   "source": [
    "from matplotlib import pyplot\n",
    "from shapely.geometry.point import Point\n",
    "import shapely.affinity\n",
    "\n",
    "\n",
    "ellipse = ((0, 0),(7, 4),0)\n",
    "\n",
    "circ = shapely.geometry.Point(ellipse[0]).buffer(1)\n",
    "ell  = shapely.affinity.scale(circ, int(ellipse[1][0]), int(ellipse[1][1]))\n",
    "ellr = shapely.affinity.rotate(ell,ellipse[2])\n",
    "\n",
    "x,y = ellr.exterior.xy\n",
    "plt.plot(x,y)"
   ]
  },
  {
   "cell_type": "code",
   "execution_count": null,
   "id": "included-champagne",
   "metadata": {},
   "outputs": [],
   "source": [
    "x,y"
   ]
  },
  {
   "cell_type": "code",
   "execution_count": null,
   "id": "introductory-lunch",
   "metadata": {},
   "outputs": [],
   "source": []
  }
 ],
 "metadata": {
  "kernelspec": {
   "display_name": "Python 3",
   "language": "python",
   "name": "python3"
  },
  "language_info": {
   "codemirror_mode": {
    "name": "ipython",
    "version": 3
   },
   "file_extension": ".py",
   "mimetype": "text/x-python",
   "name": "python",
   "nbconvert_exporter": "python",
   "pygments_lexer": "ipython3",
   "version": "3.8.8"
  }
 },
 "nbformat": 4,
 "nbformat_minor": 5
}
